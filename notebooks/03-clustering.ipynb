{
 "cells": [
  {
   "cell_type": "code",
   "execution_count": 14,
   "metadata": {},
   "outputs": [
    {
     "name": "stdout",
     "output_type": "stream",
     "text": [
      "/usr/bin/python3\n"
     ]
    }
   ],
   "source": [
    "import sys\n",
    "print(sys.executable)"
   ]
  },
  {
   "cell_type": "markdown",
   "metadata": {},
   "source": [
    "### Import des bibliothèques"
   ]
  },
  {
   "cell_type": "code",
   "execution_count": 15,
   "metadata": {},
   "outputs": [],
   "source": [
    "from pyspark.sql import SparkSession\n",
    "from pyspark.ml.feature import VectorAssembler, StandardScaler\n",
    "from pyspark.ml.clustering import KMeans\n",
    "from pyspark.sql.functions import col\n",
    "import matplotlib.pyplot as plt\n",
    "import seaborn as sns"
   ]
  },
  {
   "cell_type": "code",
   "execution_count": 16,
   "metadata": {},
   "outputs": [],
   "source": [
    "# Initialiser Spark avec le connecteur Cassandra\n",
    "spark = SparkSession.builder \\\n",
    "    .appName(\"Clustering with PySpark\") \\\n",
    "    .config(\"spark.cassandra.connection.host\", \"172.18.0.2\") \\\n",
    "    .config(\"spark.cassandra.connection.port\", \"9042\") \\\n",
    "    .config(\"spark.cassandra.auth.username\", \"cassandra\") \\\n",
    "    .config(\"spark.cassandra.auth.password\", \"cassandra\") \\\n",
    "    .config(\"spark.jars.packages\", \"com.datastax.spark:spark-cassandra-connector_2.12:3.2.0\") \\\n",
    "    .getOrCreate()"
   ]
  },
  {
   "cell_type": "markdown",
   "metadata": {},
   "source": [
    "### Chargement des données "
   ]
  },
  {
   "cell_type": "code",
   "execution_count": 17,
   "metadata": {},
   "outputs": [],
   "source": [
    "# Charger les données depuis Cassandra\n",
    "catalogue = spark.read \\\n",
    "    .format(\"org.apache.spark.sql.cassandra\") \\\n",
    "    .options(table=\"catalogue\", keyspace=\"concessionnaire\") \\\n",
    "    .load()\n",
    "\n",
    "immatriculations = spark.read \\\n",
    "    .format(\"org.apache.spark.sql.cassandra\") \\\n",
    "    .options(table=\"immatriculation\", keyspace=\"concessionnaire\") \\\n",
    "    .load()"
   ]
  },
  {
   "cell_type": "markdown",
   "metadata": {},
   "source": [
    "### Prétraitement des données"
   ]
  },
  {
   "cell_type": "code",
   "execution_count": 18,
   "metadata": {},
   "outputs": [
    {
     "name": "stdout",
     "output_type": "stream",
     "text": [
      "Aperçu des données du catalogue :\n"
     ]
    },
    {
     "name": "stderr",
     "output_type": "stream",
     "text": [
      "25/01/19 00:15:22 WARN V2ScanPartitioningAndOrdering: Spark ignores the partitioning CassandraPartitioning. Please use KeyGroupedPartitioning for better performance\n"
     ]
    },
    {
     "name": "stdout",
     "output_type": "stream",
     "text": [
      "+--------+---------+-------+--------+--------+--------+--------+--------------------+---------+\n",
      "|  marque|      nom|couleur|longueur|nbplaces|nbportes|occasion|                prix|puissance|\n",
      "+--------+---------+-------+--------+--------+--------+--------+--------------------+---------+\n",
      "|Daihatsu|Cuore 1.0|  blanc|  courte|       5|       3|   false|8850.000000000000...|       58|\n",
      "|Daihatsu|Cuore 1.0|   bleu|  courte|       5|       3|   false|8850.000000000000...|       58|\n",
      "|Daihatsu|Cuore 1.0|   gris|  courte|       5|       3|   false|8850.000000000000...|       58|\n",
      "|Daihatsu|Cuore 1.0|   noir|  courte|       5|       3|   false|8850.000000000000...|       58|\n",
      "|Daihatsu|Cuore 1.0|  rouge|  courte|       5|       3|   false|8850.000000000000...|       58|\n",
      "+--------+---------+-------+--------+--------+--------+--------+--------------------+---------+\n",
      "only showing top 5 rows\n",
      "\n"
     ]
    }
   ],
   "source": [
    "# Afficher les premières lignes\n",
    "print(\"Aperçu des données du catalogue :\")\n",
    "catalogue.show(5)"
   ]
  },
  {
   "cell_type": "code",
   "execution_count": 19,
   "metadata": {},
   "outputs": [],
   "source": [
    "# Séparer les voitures neuves et d'occasion\n",
    "catalogue_new = catalogue.filter(col(\"occasion\") == False)"
   ]
  },
  {
   "cell_type": "code",
   "execution_count": 20,
   "metadata": {},
   "outputs": [],
   "source": [
    "# Supprimer les doublons des voitures neuves en fonction du nom\n",
    "catalogue_new = catalogue_new.dropDuplicates([\"nom\"])"
   ]
  },
  {
   "cell_type": "code",
   "execution_count": 21,
   "metadata": {},
   "outputs": [
    {
     "name": "stderr",
     "output_type": "stream",
     "text": [
      "25/01/19 00:15:23 WARN V2ScanPartitioningAndOrdering: Spark ignores the partitioning CassandraPartitioning. Please use KeyGroupedPartitioning for better performance\n"
     ]
    }
   ],
   "source": [
    "# Encodage ordinal de la colonne 'longueur'\n",
    "from pyspark.ml.feature import StringIndexer\n",
    "\n",
    "indexer = StringIndexer(inputCol=\"longueur\", outputCol=\"longueur_index\", stringOrderType=\"alphabetAsc\")\n",
    "catalogue_new = indexer.fit(catalogue_new).transform(catalogue_new)"
   ]
  },
  {
   "cell_type": "code",
   "execution_count": 22,
   "metadata": {},
   "outputs": [],
   "source": [
    "# Sélectionner uniquement les colonnes numériques\n",
    "numeric_cols = [\"puissance\", \"longueur_index\", \"nbplaces\", \"nbportes\", \"prix\"]\n",
    "assembler = VectorAssembler(inputCols=numeric_cols, outputCol=\"features\")\n",
    "catalogue_new = assembler.transform(catalogue_new)"
   ]
  },
  {
   "cell_type": "code",
   "execution_count": 23,
   "metadata": {},
   "outputs": [
    {
     "name": "stderr",
     "output_type": "stream",
     "text": [
      "25/01/19 00:15:23 WARN V2ScanPartitioningAndOrdering: Spark ignores the partitioning CassandraPartitioning. Please use KeyGroupedPartitioning for better performance\n"
     ]
    }
   ],
   "source": [
    "# Normalisation des données\n",
    "scaler = StandardScaler(inputCol=\"features\", outputCol=\"scaled_features\", withStd=True, withMean=True)\n",
    "scaler_model = scaler.fit(catalogue_new)\n",
    "catalogue_new = scaler_model.transform(catalogue_new)"
   ]
  },
  {
   "cell_type": "code",
   "execution_count": 24,
   "metadata": {},
   "outputs": [
    {
     "name": "stderr",
     "output_type": "stream",
     "text": [
      "25/01/19 00:15:24 WARN V2ScanPartitioningAndOrdering: Spark ignores the partitioning CassandraPartitioning. Please use KeyGroupedPartitioning for better performance\n"
     ]
    },
    {
     "name": "stdout",
     "output_type": "stream",
     "text": [
      "+--------+-----------+-------+--------+--------+--------+--------+--------------------+---------+--------------+--------------------+--------------------+\n",
      "|  marque|        nom|couleur|longueur|nbplaces|nbportes|occasion|                prix|puissance|longueur_index|            features|     scaled_features|\n",
      "+--------+-----------+-------+--------+--------+--------+--------+--------------------+---------+--------------+--------------------+--------------------+\n",
      "|  Nissan| Almera 1.8|  blanc| moyenne|       5|       5|   false|16450.00000000000...|      115|           2.0|[115.0,2.0,5.0,5....|[-0.2916059217599...|\n",
      "|Daihatsu|  Cuore 1.0|  blanc|  courte|       5|       3|   false|8850.000000000000...|       58|           0.0|[58.0,0.0,5.0,3.0...|[-1.3997084244475...|\n",
      "| Renault|Espace 2.0T|   bleu|  longue|       7|       5|   false|30350.00000000000...|      165|           1.0|[165.0,1.0,7.0,5....|[0.68041381743977...|\n",
      "+--------+-----------+-------+--------+--------+--------+--------+--------------------+---------+--------------+--------------------+--------------------+\n",
      "only showing top 3 rows\n",
      "\n"
     ]
    }
   ],
   "source": [
    "catalogue_new.show(3)"
   ]
  },
  {
   "cell_type": "markdown",
   "metadata": {},
   "source": [
    "### Clustering"
   ]
  },
  {
   "cell_type": "code",
   "execution_count": 25,
   "metadata": {},
   "outputs": [
    {
     "name": "stderr",
     "output_type": "stream",
     "text": [
      "25/01/19 00:15:25 WARN V2ScanPartitioningAndOrdering: Spark ignores the partitioning CassandraPartitioning. Please use KeyGroupedPartitioning for better performance\n",
      "25/01/19 00:15:25 WARN V2ScanPartitioningAndOrdering: Spark ignores the partitioning CassandraPartitioning. Please use KeyGroupedPartitioning for better performance\n",
      "25/01/19 00:15:26 WARN V2ScanPartitioningAndOrdering: Spark ignores the partitioning CassandraPartitioning. Please use KeyGroupedPartitioning for better performance\n",
      "25/01/19 00:15:28 WARN InstanceBuilder: Failed to load implementation from:dev.ludovic.netlib.blas.JNIBLAS\n",
      "25/01/19 00:15:28 WARN V2ScanPartitioningAndOrdering: Spark ignores the partitioning CassandraPartitioning. Please use KeyGroupedPartitioning for better performance\n"
     ]
    }
   ],
   "source": [
    "# Clustering avec KMeans\n",
    "kmeans = KMeans(featuresCol=\"scaled_features\", k=4, seed=123)\n",
    "model = kmeans.fit(catalogue_new)\n",
    "catalogue_new = model.transform(catalogue_new)"
   ]
  },
  {
   "cell_type": "code",
   "execution_count": 26,
   "metadata": {},
   "outputs": [
    {
     "name": "stdout",
     "output_type": "stream",
     "text": [
      "Résultats du clustering :\n"
     ]
    },
    {
     "name": "stderr",
     "output_type": "stream",
     "text": [
      "25/01/19 00:15:29 WARN V2ScanPartitioningAndOrdering: Spark ignores the partitioning CassandraPartitioning. Please use KeyGroupedPartitioning for better performance\n"
     ]
    },
    {
     "name": "stdout",
     "output_type": "stream",
     "text": [
      "+----------+----------------+---------+--------------------+----------+\n",
      "|    marque|             nom|puissance|                prix|prediction|\n",
      "+----------+----------------+---------+--------------------+----------+\n",
      "|    Nissan|      Almera 1.8|      115|16450.00000000000...|         2|\n",
      "|  Daihatsu|       Cuore 1.0|       58|8850.000000000000...|         1|\n",
      "|   Renault|     Espace 2.0T|      165|30350.00000000000...|         3|\n",
      "|     Honda|        FR-V 1.7|      125|19550.00000000000...|         3|\n",
      "|Volkswagen|    Golf 2.0 FSI|      150|22900.00000000000...|         2|\n",
      "|   Renault|     Laguna 2.0T|      170|27300.00000000000...|         2|\n",
      "|     Dacia|   Logan 1.6 MPI|       90|7500.000000000000...|         2|\n",
      "|   Hyundaï|      Matrix 1.6|      103|15960.00000000000...|         3|\n",
      "|    Nissan|   Maxima 3.0 V6|      200|30000.00000000000...|         0|\n",
      "|   Renault|  Megane 2.0 16V|      135|22350.00000000000...|         2|\n",
      "|Volkswagen|  New Beatle 1.8|      110|26630.00000000000...|         2|\n",
      "|       Kia|     Picanto 1.1|       65|8990.000000000000...|         2|\n",
      "|Volkswagen|     Polo 1.2 6V|       55|12200.00000000000...|         1|\n",
      "|    Nissan|     Primera 1.6|      109|18650.00000000000...|         2|\n",
      "|     Skoda|   Superb 2.8 V6|      193|31790.00000000000...|         0|\n",
      "|      Seat|      Toledo 1.6|      102|18880.00000000000...|         2|\n",
      "|Volkswagen|  Touran 2.0 FSI|      150|27340.00000000000...|         3|\n",
      "|   Renault|Vel Satis 3.5 V6|      245|49200.00000000000...|         0|\n",
      "+----------+----------------+---------+--------------------+----------+\n",
      "\n"
     ]
    }
   ],
   "source": [
    "# Afficher les clusters\n",
    "print(\"Résultats du clustering :\")\n",
    "catalogue_new.select(\"marque\", \"nom\", \"puissance\", \"prix\", \"prediction\").show()"
   ]
  },
  {
   "cell_type": "code",
   "execution_count": 27,
   "metadata": {},
   "outputs": [
    {
     "name": "stderr",
     "output_type": "stream",
     "text": [
      "25/01/19 00:15:30 WARN V2ScanPartitioningAndOrdering: Spark ignores the partitioning CassandraPartitioning. Please use KeyGroupedPartitioning for better performance\n"
     ]
    },
    {
     "data": {
      "image/png": "[encoded data removed]",
      "text/plain": [
       "<Figure size 1000x800 with 1 Axes>"
      ]
     },
     "metadata": {},
     "output_type": "display_data"
    }
   ],
   "source": [
    "# Visualisation des clusters (nécessite la conversion en Pandas)\n",
    "catalogue_new_pd = catalogue_new.select(\"puissance\", \"prix\", \"prediction\").toPandas()\n",
    "\n",
    "plt.figure(figsize=(10, 8))\n",
    "sns.scatterplot(x=\"puissance\", y=\"prix\", hue=\"prediction\", data=catalogue_new_pd, palette=\"viridis\", s=100)\n",
    "plt.title(\"Clustering des véhicules (K=4)\")\n",
    "plt.xlabel(\"Puissance\")\n",
    "plt.ylabel(\"Prix\")\n",
    "plt.legend(title=\"Cluster\")\n",
    "plt.show()"
   ]
  },
  {
   "cell_type": "code",
   "execution_count": 36,
   "metadata": {},
   "outputs": [
    {
     "name": "stderr",
     "output_type": "stream",
     "text": [
      "25/01/19 00:23:25 WARN V2ScanPartitioningAndOrdering: Spark ignores the partitioning CassandraPartitioning. Please use KeyGroupedPartitioning for better performance\n"
     ]
    }
   ],
   "source": [
    "# Sélectionner uniquement les colonnes nécessaires pour la sauvegarde\n",
    "columns_to_save = [\"marque\", \"nom\", \"couleur\", \"puissance\", \"longueur\", \"nbplaces\", \"nbportes\", \"prix\", \"prediction\"]\n",
    "catalogue_new_selected = catalogue_new.select(columns_to_save)\n",
    "\n",
    "# Sauvegarder les données avec les clusters\n",
    "catalogue_new_selected.write.csv(\"data/clustered/catalogue_clusters.csv\", header=True, mode=\"overwrite\")"
   ]
  },
  {
   "cell_type": "code",
   "execution_count": 33,
   "metadata": {},
   "outputs": [],
   "source": [
    "# CREATE TABLE concessionnaire.catalogue_clusters (\n",
    "#     marque text,\n",
    "#     nom text,\n",
    "#     couleur text,\n",
    "#     puissance int,\n",
    "#     longueur text,\n",
    "#     nbplaces int,\n",
    "#     nbportes int,\n",
    "#     prix decimal,\n",
    "#     prediction int,\n",
    "#     PRIMARY KEY (marque, nom, couleur)\n",
    "# );"
   ]
  },
  {
   "cell_type": "code",
   "execution_count": 37,
   "metadata": {},
   "outputs": [
    {
     "name": "stderr",
     "output_type": "stream",
     "text": [
      "25/01/19 00:23:29 WARN V2ScanPartitioningAndOrdering: Spark ignores the partitioning CassandraPartitioning. Please use KeyGroupedPartitioning for better performance\n"
     ]
    },
    {
     "name": "stdout",
     "output_type": "stream",
     "text": [
      "Données sauvegardées avec succès dans Cassandra.\n"
     ]
    }
   ],
   "source": [
    "# Sauvegarder les données avec les clusters dans Cassandra \n",
    "catalogue_new_selected.write \\\n",
    "    .format(\"org.apache.spark.sql.cassandra\") \\\n",
    "    .options(table=\"catalogue_clusters\", keyspace=\"concessionnaire\") \\\n",
    "    .mode(\"append\") \\\n",
    "    .save()\n",
    "print(\"Données sauvegardées avec succès dans Cassandra.\")"
   ]
  },
  {
   "cell_type": "markdown",
   "metadata": {},
   "source": [
    "#### Ajouter les clusters à immatriculations"
   ]
  },
  {
   "cell_type": "code",
   "execution_count": 42,
   "metadata": {},
   "outputs": [],
   "source": [
    "# Fusionner les clusters du catalogue avec les immatriculations\n",
    "catalogue_clusters = catalogue_new.select(\"marque\", \"nom\", \"prediction\")\n",
    "immatriculations_with_clusters = immatriculations.join(catalogue_clusters, on=[\"marque\", \"nom\"], how=\"left\")"
   ]
  },
  {
   "cell_type": "code",
   "execution_count": 43,
   "metadata": {},
   "outputs": [],
   "source": [
    "# Filtrer les immatriculations pour ne garder que les voitures neuves\n",
    "immatriculations_with_clusters = immatriculations_with_clusters.filter(col(\"occasion\") == False)"
   ]
  },
  {
   "cell_type": "code",
   "execution_count": 44,
   "metadata": {},
   "outputs": [
    {
     "name": "stderr",
     "output_type": "stream",
     "text": [
      "25/01/19 00:27:10 WARN V2ScanPartitioningAndOrdering: Spark ignores the partitioning CassandraPartitioning. Please use KeyGroupedPartitioning for better performance\n",
      "25/01/19 00:27:10 WARN V2ScanPartitioningAndOrdering: Spark ignores the partitioning CassandraPartitioning. Please use KeyGroupedPartitioning for better performance\n",
      "                                                                                \r"
     ]
    }
   ],
   "source": [
    "# Sauvegarder les immatriculations avec les clusters\n",
    "immatriculations_with_clusters.write.csv(\"data/clustered/immatriculations_clusters.csv\", header=True, mode=\"overwrite\")"
   ]
  },
  {
   "cell_type": "code",
   "execution_count": 45,
   "metadata": {},
   "outputs": [],
   "source": [
    "\n",
    "# CREATE TABLE concessionnaire.immatriculations_clusters (\n",
    "#     immatriculation text PRIMARY KEY,\n",
    "#     marque text,\n",
    "#     nom text,\n",
    "#     couleur text,\n",
    "#     puissance int,\n",
    "#     longueur text,\n",
    "#     nbplaces int,\n",
    "#     nbportes int,\n",
    "#     occasion boolean,\n",
    "#     prix decimal,\n",
    "#     prediction int\n",
    "# );"
   ]
  },
  {
   "cell_type": "code",
   "execution_count": 48,
   "metadata": {},
   "outputs": [
    {
     "name": "stderr",
     "output_type": "stream",
     "text": [
      "25/01/19 00:30:08 WARN V2ScanPartitioningAndOrdering: Spark ignores the partitioning CassandraPartitioning. Please use KeyGroupedPartitioning for better performance\n",
      "25/01/19 00:30:08 WARN V2ScanPartitioningAndOrdering: Spark ignores the partitioning CassandraPartitioning. Please use KeyGroupedPartitioning for better performance\n",
      "[Stage 113:>                                                        (0 + 1) / 1]\r"
     ]
    },
    {
     "name": "stdout",
     "output_type": "stream",
     "text": [
      "Données sauvegardées avec succès dans Cassandra.\n"
     ]
    },
    {
     "name": "stderr",
     "output_type": "stream",
     "text": [
      "                                                                                \r"
     ]
    }
   ],
   "source": [
    "# Sauvegarder les données avec les clusters dans Cassandra \n",
    "immatriculations_with_clusters.write \\\n",
    "    .format(\"org.apache.spark.sql.cassandra\") \\\n",
    "    .options(table=\"immatriculations_clusters\", keyspace=\"concessionnaire\") \\\n",
    "    .mode(\"append\") \\\n",
    "    .save()\n",
    "print(\"Données sauvegardées avec succès dans Cassandra.\")"
   ]
  },
  {
   "cell_type": "code",
   "execution_count": 49,
   "metadata": {},
   "outputs": [
    {
     "name": "stdout",
     "output_type": "stream",
     "text": [
      "Aperçu des immatriculations avec les clusters :\n"
     ]
    },
    {
     "name": "stderr",
     "output_type": "stream",
     "text": [
      "25/01/19 00:31:01 WARN V2ScanPartitioningAndOrdering: Spark ignores the partitioning CassandraPartitioning. Please use KeyGroupedPartitioning for better performance\n",
      "25/01/19 00:31:01 WARN V2ScanPartitioningAndOrdering: Spark ignores the partitioning CassandraPartitioning. Please use KeyGroupedPartitioning for better performance\n"
     ]
    },
    {
     "name": "stdout",
     "output_type": "stream",
     "text": [
      "+----------+----------------+---------------+-------+-----------+--------+--------+--------+--------------------+---------+----------+\n",
      "|    marque|             nom|immatriculation|couleur|   longueur|nbplaces|nbportes|occasion|                prix|puissance|prediction|\n",
      "+----------+----------------+---------------+-------+-----------+--------+--------+--------+--------------------+---------+----------+\n",
      "|  Mercedes|            S500|     5837 FY 43|  rouge|très longue|       5|       5|   false|101300.0000000000...|      306|      NULL|\n",
      "|Volkswagen|     Polo 1.2 6V|     9993 TP 14|   noir|     courte|       5|       3|   false|12200.00000000000...|       55|         1|\n",
      "|   Renault|Vel Satis 3.5 V6|     8792 GM 54|   gris|très longue|       5|       5|   false|49200.00000000000...|      245|         0|\n",
      "|      Seat|      Toledo 1.6|     7756 VE 52|   bleu|     longue|       5|       5|   false|18880.00000000000...|      102|         2|\n",
      "|      Audi|          A2 1.4|     9055 WO 65|  blanc|     courte|       5|       5|   false|18310.00000000000...|       75|      NULL|\n",
      "+----------+----------------+---------------+-------+-----------+--------+--------+--------+--------------------+---------+----------+\n",
      "only showing top 5 rows\n",
      "\n"
     ]
    }
   ],
   "source": [
    "\n",
    "# Afficher les premières lignes des immatriculations avec les clusters\n",
    "print(\"Aperçu des immatriculations avec les clusters :\")\n",
    "immatriculations_with_clusters.show(5)"
   ]
  },
  {
   "cell_type": "code",
   "execution_count": 50,
   "metadata": {},
   "outputs": [],
   "source": [
    "spark.stop()"
   ]
  },
  {
   "cell_type": "code",
   "execution_count": null,
   "metadata": {},
   "outputs": [],
   "source": []
  }
 ],
 "metadata": {
  "kernelspec": {
   "display_name": "Python 3 (ipykernel)",
   "language": "python",
   "name": "python3"
  },
  "language_info": {
   "codemirror_mode": {
    "name": "ipython",
    "version": 3
   },
   "file_extension": ".py",
   "mimetype": "text/x-python",
   "name": "python",
   "nbconvert_exporter": "python",
   "pygments_lexer": "ipython3",
   "version": "3.8.10"
  }
 },
 "nbformat": 4,
 "nbformat_minor": 2
}
