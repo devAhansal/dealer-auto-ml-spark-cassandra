{
 "cells": [
  {
   "cell_type": "code",
   "execution_count": 2,
   "metadata": {},
   "outputs": [],
   "source": [
    "from pyspark.sql import SparkSession\n",
    "from cassandra.cluster import Cluster\n",
    "from cassandra.auth import PlainTextAuthProvider\n",
    "from pyspark.sql.functions import col, when, mean,sum\n",
    "from pyspark.sql.types import DecimalType\n",
    "\n"
   ]
  },
  {
   "cell_type": "code",
   "execution_count": 3,
   "metadata": {},
   "outputs": [
    {
     "name": "stdout",
     "output_type": "stream",
     "text": [
      ":: loading settings :: url = jar:file:/opt/spark/jars/ivy-2.5.1.jar!/org/apache/ivy/core/settings/ivysettings.xml\n"
     ]
    },
    {
     "name": "stderr",
     "output_type": "stream",
     "text": [
      "Ivy Default Cache set to: /root/.ivy2/cache\n",
      "The jars for the packages stored in: /root/.ivy2/jars\n",
      "com.datastax.spark#spark-cassandra-connector_2.12 added as a dependency\n",
      ":: resolving dependencies :: org.apache.spark#spark-submit-parent-0a54823d-c3c5-4f5d-9a62-b38d90818668;1.0\n",
      "\tconfs: [default]\n",
      "\tfound com.datastax.spark#spark-cassandra-connector_2.12;3.2.0 in central\n",
      "\tfound com.datastax.spark#spark-cassandra-connector-driver_2.12;3.2.0 in central\n",
      "\tfound com.datastax.oss#java-driver-core-shaded;4.13.0 in central\n",
      "\tfound com.datastax.oss#native-protocol;1.5.0 in central\n",
      "\tfound com.datastax.oss#java-driver-shaded-guava;25.1-jre-graal-sub-1 in central\n",
      "\tfound com.typesafe#config;1.4.1 in central\n",
      "\tfound org.slf4j#slf4j-api;1.7.26 in central\n",
      "\tfound io.dropwizard.metrics#metrics-core;4.1.18 in central\n",
      "\tfound org.hdrhistogram#HdrHistogram;2.1.12 in central\n",
      "\tfound org.reactivestreams#reactive-streams;1.0.3 in central\n",
      "\tfound com.github.stephenc.jcip#jcip-annotations;1.0-1 in central\n",
      "\tfound com.github.spotbugs#spotbugs-annotations;3.1.12 in central\n",
      "\tfound com.google.code.findbugs#jsr305;3.0.2 in central\n",
      "\tfound com.datastax.oss#java-driver-mapper-runtime;4.13.0 in central\n",
      "\tfound com.datastax.oss#java-driver-query-builder;4.13.0 in central\n",
      "\tfound org.apache.commons#commons-lang3;3.10 in central\n",
      "\tfound com.thoughtworks.paranamer#paranamer;2.8 in central\n",
      "\tfound org.scala-lang#scala-reflect;2.12.11 in central\n",
      ":: resolution report :: resolve 541ms :: artifacts dl 21ms\n",
      "\t:: modules in use:\n",
      "\tcom.datastax.oss#java-driver-core-shaded;4.13.0 from central in [default]\n",
      "\tcom.datastax.oss#java-driver-mapper-runtime;4.13.0 from central in [default]\n",
      "\tcom.datastax.oss#java-driver-query-builder;4.13.0 from central in [default]\n",
      "\tcom.datastax.oss#java-driver-shaded-guava;25.1-jre-graal-sub-1 from central in [default]\n",
      "\tcom.datastax.oss#native-protocol;1.5.0 from central in [default]\n",
      "\tcom.datastax.spark#spark-cassandra-connector-driver_2.12;3.2.0 from central in [default]\n",
      "\tcom.datastax.spark#spark-cassandra-connector_2.12;3.2.0 from central in [default]\n",
      "\tcom.github.spotbugs#spotbugs-annotations;3.1.12 from central in [default]\n",
      "\tcom.github.stephenc.jcip#jcip-annotations;1.0-1 from central in [default]\n",
      "\tcom.google.code.findbugs#jsr305;3.0.2 from central in [default]\n",
      "\tcom.thoughtworks.paranamer#paranamer;2.8 from central in [default]\n",
      "\tcom.typesafe#config;1.4.1 from central in [default]\n",
      "\tio.dropwizard.metrics#metrics-core;4.1.18 from central in [default]\n",
      "\torg.apache.commons#commons-lang3;3.10 from central in [default]\n",
      "\torg.hdrhistogram#HdrHistogram;2.1.12 from central in [default]\n",
      "\torg.reactivestreams#reactive-streams;1.0.3 from central in [default]\n",
      "\torg.scala-lang#scala-reflect;2.12.11 from central in [default]\n",
      "\torg.slf4j#slf4j-api;1.7.26 from central in [default]\n",
      "\t---------------------------------------------------------------------\n",
      "\t|                  |            modules            ||   artifacts   |\n",
      "\t|       conf       | number| search|dwnlded|evicted|| number|dwnlded|\n",
      "\t---------------------------------------------------------------------\n",
      "\t|      default     |   18  |   0   |   0   |   0   ||   18  |   0   |\n",
      "\t---------------------------------------------------------------------\n",
      ":: retrieving :: org.apache.spark#spark-submit-parent-0a54823d-c3c5-4f5d-9a62-b38d90818668\n",
      "\tconfs: [default]\n",
      "\t0 artifacts copied, 18 already retrieved (0kB/14ms)\n",
      "25/01/19 00:12:01 WARN NativeCodeLoader: Unable to load native-hadoop library for your platform... using builtin-java classes where applicable\n",
      "Setting default log level to \"WARN\".\n",
      "To adjust logging level use sc.setLogLevel(newLevel). For SparkR, use setLogLevel(newLevel).\n",
      "25/01/19 00:12:02 WARN Utils: Service 'SparkUI' could not bind on port 4040. Attempting port 4041.\n"
     ]
    }
   ],
   "source": [
    "# Initialiser Spark avec le connecteur Cassandra\n",
    "spark = SparkSession.builder \\\n",
    "    .appName(\"Save Data to Cassandra\") \\\n",
    "    .config(\"spark.cassandra.connection.host\", \"172.18.0.2\") \\\n",
    "    .config(\"spark.cassandra.connection.port\", \"9042\") \\\n",
    "    .config(\"spark.cassandra.auth.username\", \"cassandra\") \\\n",
    "    .config(\"spark.cassandra.auth.password\", \"cassandra\") \\\n",
    "    .config(\"spark.jars.packages\", \"com.datastax.spark:spark-cassandra-connector_2.12:3.2.0\") \\\n",
    "    .getOrCreate()"
   ]
  },
  {
   "cell_type": "code",
   "execution_count": 4,
   "metadata": {},
   "outputs": [],
   "source": [
    "# Se connecter à Cassandra pour vérifier les tables\n",
    "auth_provider = PlainTextAuthProvider(username='cassandra', password='cassandra')\n",
    "cluster = Cluster(['172.18.0.2'], port=9042, auth_provider=auth_provider)\n",
    "session = cluster.connect('concessionnaire')"
   ]
  },
  {
   "cell_type": "code",
   "execution_count": 5,
   "metadata": {},
   "outputs": [
    {
     "name": "stderr",
     "output_type": "stream",
     "text": [
      "                                                                                \r"
     ]
    }
   ],
   "source": [
    "# Charger les données traitées depuis les fichiers CSV\n",
    "clients_processed = spark.read.csv(\"data/processed/clients_processed.csv\", header=True, inferSchema=True)\n",
    "catalogue_processed = spark.read.csv(\"data/processed/catalogue_processed.csv\", header=True, inferSchema=True)\n",
    "immatriculations_processed = spark.read.csv(\"data/processed/immatriculations_processed.csv\", header=True, inferSchema=True)"
   ]
  },
  {
   "cell_type": "markdown",
   "metadata": {},
   "source": [
    "### Sauvegarder les données dans Cassandra"
   ]
  },
  {
   "cell_type": "code",
   "execution_count": 6,
   "metadata": {},
   "outputs": [],
   "source": [
    "# Sélectionner uniquement les colonnes d'origine (sans les colonnes index)\n",
    "clients_original_columns = [\"immatriculation\", \"age\", \"sexe\", \"taux\", \"situationFamiliale\", \"nbEnfantsAcharge\", \"2eme voiture\"]\n",
    "catalogue_original_columns = [\"marque\", \"nom\", \"puissance\", \"longueur\", \"nbPlaces\", \"nbPortes\", \"couleur\", \"occasion\", \"prix\"]\n",
    "immatriculation_original_columns = [\"immatriculation\", \"marque\", \"nom\", \"puissance\", \"longueur\", \"nbPlaces\", \"nbPortes\", \"couleur\", \"occasion\", \"prix\"]"
   ]
  },
  {
   "cell_type": "code",
   "execution_count": 7,
   "metadata": {},
   "outputs": [],
   "source": [
    "# Filtrer les colonnes\n",
    "clients_processed = clients_processed.select(clients_original_columns)\n",
    "catalogue_processed = catalogue_processed.select(catalogue_original_columns)\n",
    "immatriculations_processed = immatriculations_processed.select(immatriculation_original_columns)"
   ]
  },
  {
   "cell_type": "code",
   "execution_count": 8,
   "metadata": {},
   "outputs": [
    {
     "name": "stdout",
     "output_type": "stream",
     "text": [
      "+---------------+----+----+------+------------------+----------------+------------+\n",
      "|immatriculation| age|sexe|  taux|situationFamiliale|nbEnfantsAcharge|2eme voiture|\n",
      "+---------------+----+----+------+------------------+----------------+------------+\n",
      "|     1435 TU 40|27.0|   M| 990.0|         En Couple|             3.0|       false|\n",
      "|     2458 CW 38|33.0|   M|1288.0|         En Couple|             0.0|       false|\n",
      "|     9316 TP 82|23.0|   M|1342.0|       Célibataire|             0.0|       false|\n",
      "+---------------+----+----+------+------------------+----------------+------------+\n",
      "only showing top 3 rows\n",
      "\n"
     ]
    }
   ],
   "source": [
    "clients_processed.show(3)"
   ]
  },
  {
   "cell_type": "code",
   "execution_count": 9,
   "metadata": {},
   "outputs": [
    {
     "name": "stdout",
     "output_type": "stream",
     "text": [
      "root\n",
      " |-- immatriculation: string (nullable = true)\n",
      " |-- age: double (nullable = true)\n",
      " |-- sexe: string (nullable = true)\n",
      " |-- taux: double (nullable = true)\n",
      " |-- situationFamiliale: string (nullable = true)\n",
      " |-- nbEnfantsAcharge: double (nullable = true)\n",
      " |-- 2eme voiture: boolean (nullable = true)\n",
      "\n"
     ]
    }
   ],
   "source": [
    "clients_processed.printSchema()"
   ]
  },
  {
   "cell_type": "code",
   "execution_count": 10,
   "metadata": {},
   "outputs": [],
   "source": [
    "# Convertir les colonnes en types compatibles avec Cassandra\n",
    "clients_processed = clients_processed.withColumn(\"age\", col(\"age\").cast(\"int\")) \\\n",
    "                                     .withColumn(\"taux\", col(\"taux\").cast(\"int\")) \\\n",
    "                                     .withColumn(\"nbEnfantsAcharge\", col(\"nbEnfantsAcharge\").cast(\"int\"))"
   ]
  },
  {
   "cell_type": "code",
   "execution_count": 11,
   "metadata": {},
   "outputs": [],
   "source": [
    "# Rename columns to match Cassandra table\n",
    "clients_processed = clients_processed.withColumnRenamed(\"nbEnfantsAcharge\", \"nbenfantsacharge\") \\\n",
    "                                     .withColumnRenamed(\"situationFamiliale\", \"situationfamiliale\")"
   ]
  },
  {
   "cell_type": "code",
   "execution_count": 12,
   "metadata": {},
   "outputs": [
    {
     "name": "stdout",
     "output_type": "stream",
     "text": [
      "Schéma du DataFrame après conversion :\n",
      "root\n",
      " |-- immatriculation: string (nullable = true)\n",
      " |-- age: integer (nullable = true)\n",
      " |-- sexe: string (nullable = true)\n",
      " |-- taux: integer (nullable = true)\n",
      " |-- situationfamiliale: string (nullable = true)\n",
      " |-- nbenfantsacharge: integer (nullable = true)\n",
      " |-- 2eme voiture: boolean (nullable = true)\n",
      "\n"
     ]
    }
   ],
   "source": [
    "# Afficher le schéma du DataFrame après conversion\n",
    "print(\"Schéma du DataFrame après conversion :\")\n",
    "clients_processed.printSchema()"
   ]
  },
  {
   "cell_type": "code",
   "execution_count": 13,
   "metadata": {},
   "outputs": [
    {
     "name": "stderr",
     "output_type": "stream",
     "text": [
      "25/01/19 00:12:27 WARN PlainTextAuthProviderBase: [] /172.18.0.2:9042 did not send an authentication challenge; This is suspicious because the driver expects authentication\n",
      "25/01/19 00:12:28 WARN PlainTextAuthProviderBase: [] /172.18.0.2:9042 did not send an authentication challenge; This is suspicious because the driver expects authentication\n",
      "[Stage 7:>                                                          (0 + 1) / 1]\r"
     ]
    },
    {
     "name": "stdout",
     "output_type": "stream",
     "text": [
      "Données sauvegardées avec succès dans Cassandra.\n"
     ]
    },
    {
     "name": "stderr",
     "output_type": "stream",
     "text": [
      "                                                                                \r"
     ]
    }
   ],
   "source": [
    "# 1. Sauvegarder les clients\n",
    "clients_processed.write \\\n",
    "    .format(\"org.apache.spark.sql.cassandra\") \\\n",
    "    .options(table=\"clients\", keyspace=\"concessionnaire\") \\\n",
    "    .mode(\"append\") \\\n",
    "    .save()\n",
    "\n",
    "print(\"Données sauvegardées avec succès dans Cassandra.\")"
   ]
  },
  {
   "cell_type": "code",
   "execution_count": 14,
   "metadata": {},
   "outputs": [
    {
     "name": "stdout",
     "output_type": "stream",
     "text": [
      "root\n",
      " |-- immatriculation: string (nullable = true)\n",
      " |-- age: integer (nullable = true)\n",
      " |-- sexe: string (nullable = true)\n",
      " |-- taux: integer (nullable = true)\n",
      " |-- situationfamiliale: string (nullable = true)\n",
      " |-- nbenfantsacharge: integer (nullable = true)\n",
      " |-- 2eme voiture: boolean (nullable = true)\n",
      "\n"
     ]
    }
   ],
   "source": [
    "clients_processed.printSchema()"
   ]
  },
  {
   "cell_type": "code",
   "execution_count": 15,
   "metadata": {},
   "outputs": [],
   "source": [
    "# Rename columns to match Cassandra table\n",
    "catalogue_processed = catalogue_processed.withColumnRenamed(\"nbPlaces\", \"nbplaces\") \\\n",
    "                                         .withColumnRenamed(\"nbPortes\", \"nbportes\")"
   ]
  },
  {
   "cell_type": "code",
   "execution_count": 16,
   "metadata": {},
   "outputs": [],
   "source": [
    "# Cast columns to match Cassandra data types\n",
    "catalogue_processed = catalogue_processed.withColumn(\"prix\", col(\"prix\").cast(DecimalType(10, 2))) \\\n",
    "                                         .withColumn(\"puissance\", col(\"puissance\").cast(\"int\")) \\\n",
    "                                         .withColumn(\"nbplaces\", col(\"nbplaces\").cast(\"int\")) \\\n",
    "                                         .withColumn(\"nbportes\", col(\"nbportes\").cast(\"int\")) \\\n",
    "                                         .withColumn(\"occasion\", col(\"occasion\").cast(\"boolean\"))"
   ]
  },
  {
   "cell_type": "code",
   "execution_count": 17,
   "metadata": {},
   "outputs": [
    {
     "name": "stdout",
     "output_type": "stream",
     "text": [
      "Données sauvegardées avec succès dans Cassandra.\n"
     ]
    }
   ],
   "source": [
    "# 2. Sauvegarder le catalogue\n",
    "catalogue_processed.write \\\n",
    "    .format(\"org.apache.spark.sql.cassandra\") \\\n",
    "    .options(table=\"catalogue\", keyspace=\"concessionnaire\") \\\n",
    "    .mode(\"append\") \\\n",
    "    .save()\n",
    "\n",
    "print(\"Données sauvegardées avec succès dans Cassandra.\")"
   ]
  },
  {
   "cell_type": "code",
   "execution_count": 18,
   "metadata": {},
   "outputs": [],
   "source": [
    "# Rename columns to match Cassandra table\n",
    "immatriculations_processed = immatriculations_processed.withColumnRenamed(\"nbPlaces\", \"nbplaces\") \\\n",
    "                                         .withColumnRenamed(\"nbPortes\", \"nbportes\")"
   ]
  },
  {
   "cell_type": "code",
   "execution_count": 19,
   "metadata": {},
   "outputs": [],
   "source": [
    "# Cast columns to match Cassandra data types\n",
    "immatriculations_processed = immatriculations_processed.withColumn(\"prix\", col(\"prix\").cast(DecimalType(10, 2))) \\\n",
    "                                         .withColumn(\"puissance\", col(\"puissance\").cast(\"int\")) \\\n",
    "                                         .withColumn(\"nbplaces\", col(\"nbplaces\").cast(\"int\")) \\\n",
    "                                         .withColumn(\"nbportes\", col(\"nbportes\").cast(\"int\")) \\\n",
    "                                         .withColumn(\"occasion\", col(\"occasion\").cast(\"boolean\"))"
   ]
  },
  {
   "cell_type": "code",
   "execution_count": 20,
   "metadata": {},
   "outputs": [
    {
     "name": "stderr",
     "output_type": "stream",
     "text": [
      "[Stage 9:============================================>              (3 + 1) / 4]\r"
     ]
    },
    {
     "name": "stdout",
     "output_type": "stream",
     "text": [
      "Données sauvegardées avec succès dans Cassandra (sans les colonnes index).\n"
     ]
    },
    {
     "name": "stderr",
     "output_type": "stream",
     "text": [
      "                                                                                \r"
     ]
    }
   ],
   "source": [
    "# 3. Sauvegarder les immatriculations\n",
    "immatriculations_processed.write \\\n",
    "    .format(\"org.apache.spark.sql.cassandra\") \\\n",
    "    .options(table=\"immatriculation\", keyspace=\"concessionnaire\") \\\n",
    "    .mode(\"append\") \\\n",
    "    .save()\n",
    "\n",
    "print(\"Données sauvegardées avec succès dans Cassandra (sans les colonnes index).\")"
   ]
  },
  {
   "cell_type": "code",
   "execution_count": 38,
   "metadata": {},
   "outputs": [
    {
     "name": "stderr",
     "output_type": "stream",
     "text": [
      "25/01/18 23:34:54 WARN ChannelPool: [s0|/172.18.0.2:9042]  Error while opening new channel (ConnectionInitException: [s0|connecting...] Protocol initialization request, step 1 (STARTUP {CQL_VERSION=3.0.0, DRIVER_NAME=DataStax Java driver for Apache Cassandra(R), DRIVER_VERSION=4.13.0, CLIENT_ID=fb4089bb-958e-4221-9c31-3c9f50d3d83f, APPLICATION_NAME=Spark-Cassandra-Connector-local-1737240500963}): failed to send request (com.datastax.oss.driver.shaded.netty.channel.StacklessClosedChannelException))\n",
      "25/01/18 23:34:54 WARN ControlConnection: [s0] Error connecting to Node(endPoint=/172.18.0.2:9042, hostId=d5adf778-4e79-4aec-aaea-dc8e8b1ecf98, hashCode=13662114), trying next node (ConnectionInitException: [s0|control|connecting...] Protocol initialization request, step 1 (STARTUP {CQL_VERSION=3.0.0, DRIVER_NAME=DataStax Java driver for Apache Cassandra(R), DRIVER_VERSION=4.13.0, CLIENT_ID=fb4089bb-958e-4221-9c31-3c9f50d3d83f, APPLICATION_NAME=Spark-Cassandra-Connector-local-1737240500963}): failed to send request (com.datastax.oss.driver.shaded.netty.channel.StacklessClosedChannelException))\n",
      "25/01/18 23:35:01 WARN ChannelPool: [s0|/172.18.0.2:9042]  Error while opening new channel (ConnectionInitException: [s0|connecting...] Protocol initialization request, step 1 (STARTUP {CQL_VERSION=3.0.0, DRIVER_NAME=DataStax Java driver for Apache Cassandra(R), DRIVER_VERSION=4.13.0, CLIENT_ID=fb4089bb-958e-4221-9c31-3c9f50d3d83f, APPLICATION_NAME=Spark-Cassandra-Connector-local-1737240500963}): failed to send request (java.nio.channels.NotYetConnectedException))\n",
      "25/01/18 23:35:01 WARN ControlConnection: [s0] Error connecting to Node(endPoint=/172.18.0.2:9042, hostId=d5adf778-4e79-4aec-aaea-dc8e8b1ecf98, hashCode=13662114), trying next node (ConnectionInitException: [s0|control|connecting...] Protocol initialization request, step 1 (STARTUP {CQL_VERSION=3.0.0, DRIVER_NAME=DataStax Java driver for Apache Cassandra(R), DRIVER_VERSION=4.13.0, CLIENT_ID=fb4089bb-958e-4221-9c31-3c9f50d3d83f, APPLICATION_NAME=Spark-Cassandra-Connector-local-1737240500963}): failed to send request (java.nio.channels.NotYetConnectedException))\n",
      "25/01/18 23:35:10 WARN ChannelPool: [s0|/172.18.0.2:9042]  Error while opening new channel (ConnectionInitException: [s0|connecting...] Protocol initialization request, step 1 (STARTUP {CQL_VERSION=3.0.0, DRIVER_NAME=DataStax Java driver for Apache Cassandra(R), DRIVER_VERSION=4.13.0, CLIENT_ID=fb4089bb-958e-4221-9c31-3c9f50d3d83f, APPLICATION_NAME=Spark-Cassandra-Connector-local-1737240500963}): failed to send request (java.nio.channels.NotYetConnectedException))\n",
      "25/01/18 23:35:11 WARN ControlConnection: [s0] Error connecting to Node(endPoint=/172.18.0.2:9042, hostId=d5adf778-4e79-4aec-aaea-dc8e8b1ecf98, hashCode=13662114), trying next node (ConnectionInitException: [s0|control|connecting...] Protocol initialization request, step 1 (STARTUP {CQL_VERSION=3.0.0, DRIVER_NAME=DataStax Java driver for Apache Cassandra(R), DRIVER_VERSION=4.13.0, CLIENT_ID=fb4089bb-958e-4221-9c31-3c9f50d3d83f, APPLICATION_NAME=Spark-Cassandra-Connector-local-1737240500963}): failed to send request (java.nio.channels.NotYetConnectedException))\n",
      "25/01/18 23:35:18 WARN ControlConnection: [s0] Error connecting to Node(endPoint=/172.18.0.2:9042, hostId=d5adf778-4e79-4aec-aaea-dc8e8b1ecf98, hashCode=13662114), trying next node (ConnectionInitException: [s0|control|connecting...] Protocol initialization request, step 1 (STARTUP {CQL_VERSION=3.0.0, DRIVER_NAME=DataStax Java driver for Apache Cassandra(R), DRIVER_VERSION=4.13.0, CLIENT_ID=fb4089bb-958e-4221-9c31-3c9f50d3d83f, APPLICATION_NAME=Spark-Cassandra-Connector-local-1737240500963}): failed to send request (com.datastax.oss.driver.shaded.netty.channel.StacklessClosedChannelException))\n",
      "25/01/18 23:35:21 WARN ChannelPool: [s0|/172.18.0.2:9042]  Error while opening new channel (ConnectionInitException: [s0|connecting...] Protocol initialization request, step 1 (STARTUP {CQL_VERSION=3.0.0, DRIVER_NAME=DataStax Java driver for Apache Cassandra(R), DRIVER_VERSION=4.13.0, CLIENT_ID=fb4089bb-958e-4221-9c31-3c9f50d3d83f, APPLICATION_NAME=Spark-Cassandra-Connector-local-1737240500963}): failed to send request (com.datastax.oss.driver.shaded.netty.channel.StacklessClosedChannelException))\n",
      "25/01/18 23:35:34 WARN ControlConnection: [s0] Error connecting to Node(endPoint=/172.18.0.2:9042, hostId=d5adf778-4e79-4aec-aaea-dc8e8b1ecf98, hashCode=13662114), trying next node (ConnectionInitException: [s0|control|connecting...] Protocol initialization request, step 1 (STARTUP {CQL_VERSION=3.0.0, DRIVER_NAME=DataStax Java driver for Apache Cassandra(R), DRIVER_VERSION=4.13.0, CLIENT_ID=fb4089bb-958e-4221-9c31-3c9f50d3d83f, APPLICATION_NAME=Spark-Cassandra-Connector-local-1737240500963}): failed to send request (com.datastax.oss.driver.shaded.netty.channel.StacklessClosedChannelException))\n",
      "25/01/18 23:35:40 WARN ChannelPool: [s0|/172.18.0.2:9042]  Error while opening new channel (ConnectionInitException: [s0|connecting...] Protocol initialization request, step 1 (STARTUP {CQL_VERSION=3.0.0, DRIVER_NAME=DataStax Java driver for Apache Cassandra(R), DRIVER_VERSION=4.13.0, CLIENT_ID=fb4089bb-958e-4221-9c31-3c9f50d3d83f, APPLICATION_NAME=Spark-Cassandra-Connector-local-1737240500963}): failed to send request (com.datastax.oss.driver.shaded.netty.channel.StacklessClosedChannelException))\n",
      "25/01/18 23:36:12 WARN ControlConnection: [s0] Error connecting to Node(endPoint=/172.18.0.2:9042, hostId=d5adf778-4e79-4aec-aaea-dc8e8b1ecf98, hashCode=13662114), trying next node (ConnectionInitException: [s0|control|connecting...] Protocol initialization request, step 1 (STARTUP {CQL_VERSION=3.0.0, DRIVER_NAME=DataStax Java driver for Apache Cassandra(R), DRIVER_VERSION=4.13.0, CLIENT_ID=fb4089bb-958e-4221-9c31-3c9f50d3d83f, APPLICATION_NAME=Spark-Cassandra-Connector-local-1737240500963}): failed to send request (com.datastax.oss.driver.shaded.netty.channel.StacklessClosedChannelException))\n",
      "25/01/18 23:36:19 WARN ChannelPool: [s0|/172.18.0.2:9042]  Error while opening new channel (ConnectionInitException: [s0|connecting...] Protocol initialization request, step 1 (STARTUP {CQL_VERSION=3.0.0, DRIVER_NAME=DataStax Java driver for Apache Cassandra(R), DRIVER_VERSION=4.13.0, CLIENT_ID=fb4089bb-958e-4221-9c31-3c9f50d3d83f, APPLICATION_NAME=Spark-Cassandra-Connector-local-1737240500963}): failed to send request (com.datastax.oss.driver.shaded.netty.channel.StacklessClosedChannelException))\n",
      "25/01/18 23:37:12 WARN ControlConnection: [s0] Error connecting to Node(endPoint=/172.18.0.2:9042, hostId=d5adf778-4e79-4aec-aaea-dc8e8b1ecf98, hashCode=13662114), trying next node (ConnectionInitException: [s0|control|connecting...] Protocol initialization request, step 1 (STARTUP {CQL_VERSION=3.0.0, DRIVER_NAME=DataStax Java driver for Apache Cassandra(R), DRIVER_VERSION=4.13.0, CLIENT_ID=fb4089bb-958e-4221-9c31-3c9f50d3d83f, APPLICATION_NAME=Spark-Cassandra-Connector-local-1737240500963}): failed to send request (com.datastax.oss.driver.shaded.netty.channel.StacklessClosedChannelException))\n",
      "25/01/18 23:37:21 WARN ChannelPool: [s0|/172.18.0.2:9042]  Error while opening new channel (ConnectionInitException: [s0|connecting...] Protocol initialization request, step 1 (STARTUP {CQL_VERSION=3.0.0, DRIVER_NAME=DataStax Java driver for Apache Cassandra(R), DRIVER_VERSION=4.13.0, CLIENT_ID=fb4089bb-958e-4221-9c31-3c9f50d3d83f, APPLICATION_NAME=Spark-Cassandra-Connector-local-1737240500963}): failed to send request (com.datastax.oss.driver.shaded.netty.channel.StacklessClosedChannelException))\n",
      "25/01/18 23:38:13 WARN ControlConnection: [s0] Error connecting to Node(endPoint=/172.18.0.2:9042, hostId=d5adf778-4e79-4aec-aaea-dc8e8b1ecf98, hashCode=13662114), trying next node (ConnectionInitException: [s0|control|connecting...] Protocol initialization request, step 1 (STARTUP {CQL_VERSION=3.0.0, DRIVER_NAME=DataStax Java driver for Apache Cassandra(R), DRIVER_VERSION=4.13.0, CLIENT_ID=fb4089bb-958e-4221-9c31-3c9f50d3d83f, APPLICATION_NAME=Spark-Cassandra-Connector-local-1737240500963}): failed to send request (com.datastax.oss.driver.shaded.netty.channel.StacklessClosedChannelException))\n",
      "25/01/18 23:38:24 WARN ChannelPool: [s0|/172.18.0.2:9042]  Error while opening new channel (ConnectionInitException: [s0|connecting...] Protocol initialization request, step 1 (STARTUP {CQL_VERSION=3.0.0, DRIVER_NAME=DataStax Java driver for Apache Cassandra(R), DRIVER_VERSION=4.13.0, CLIENT_ID=fb4089bb-958e-4221-9c31-3c9f50d3d83f, APPLICATION_NAME=Spark-Cassandra-Connector-local-1737240500963}): failed to send request (com.datastax.oss.driver.shaded.netty.channel.StacklessClosedChannelException))\n",
      "25/01/18 23:39:16 WARN ControlConnection: [s0] Error connecting to Node(endPoint=/172.18.0.2:9042, hostId=d5adf778-4e79-4aec-aaea-dc8e8b1ecf98, hashCode=13662114), trying next node (ConnectionInitException: [s0|control|connecting...] Protocol initialization request, step 1 (STARTUP {CQL_VERSION=3.0.0, DRIVER_NAME=DataStax Java driver for Apache Cassandra(R), DRIVER_VERSION=4.13.0, CLIENT_ID=fb4089bb-958e-4221-9c31-3c9f50d3d83f, APPLICATION_NAME=Spark-Cassandra-Connector-local-1737240500963}): failed to send request (com.datastax.oss.driver.shaded.netty.channel.StacklessClosedChannelException))\n",
      "25/01/18 23:39:19 WARN ChannelPool: [s0|/172.18.0.2:9042]  Error while opening new channel (ConnectionInitException: [s0|connecting...] Protocol initialization request, step 1 (STARTUP {CQL_VERSION=3.0.0, DRIVER_NAME=DataStax Java driver for Apache Cassandra(R), DRIVER_VERSION=4.13.0, CLIENT_ID=fb4089bb-958e-4221-9c31-3c9f50d3d83f, APPLICATION_NAME=Spark-Cassandra-Connector-local-1737240500963}): failed to send request (com.datastax.oss.driver.shaded.netty.channel.StacklessClosedChannelException))\n",
      "25/01/18 23:40:19 WARN ControlConnection: [s0] Error connecting to Node(endPoint=/172.18.0.2:9042, hostId=d5adf778-4e79-4aec-aaea-dc8e8b1ecf98, hashCode=13662114), trying next node (ConnectionInitException: [s0|control|connecting...] Protocol initialization request, step 1 (STARTUP {CQL_VERSION=3.0.0, DRIVER_NAME=DataStax Java driver for Apache Cassandra(R), DRIVER_VERSION=4.13.0, CLIENT_ID=fb4089bb-958e-4221-9c31-3c9f50d3d83f, APPLICATION_NAME=Spark-Cassandra-Connector-local-1737240500963}): failed to send request (com.datastax.oss.driver.shaded.netty.channel.StacklessClosedChannelException))\n",
      "25/01/18 23:40:22 WARN ChannelPool: [s0|/172.18.0.2:9042]  Error while opening new channel (ConnectionInitException: [s0|connecting...] Protocol initialization request, step 1 (STARTUP {CQL_VERSION=3.0.0, DRIVER_NAME=DataStax Java driver for Apache Cassandra(R), DRIVER_VERSION=4.13.0, CLIENT_ID=fb4089bb-958e-4221-9c31-3c9f50d3d83f, APPLICATION_NAME=Spark-Cassandra-Connector-local-1737240500963}): failed to send request (com.datastax.oss.driver.shaded.netty.channel.StacklessClosedChannelException))\n",
      "25/01/18 23:41:19 WARN ChannelPool: [s0|/172.18.0.2:9042]  Error while opening new channel (ConnectionInitException: [s0|connecting...] Protocol initialization request, step 1 (STARTUP {CQL_VERSION=3.0.0, DRIVER_NAME=DataStax Java driver for Apache Cassandra(R), DRIVER_VERSION=4.13.0, CLIENT_ID=fb4089bb-958e-4221-9c31-3c9f50d3d83f, APPLICATION_NAME=Spark-Cassandra-Connector-local-1737240500963}): failed to send request (com.datastax.oss.driver.shaded.netty.channel.StacklessClosedChannelException))\n",
      "25/01/18 23:41:19 WARN ControlConnection: [s0] Error connecting to Node(endPoint=/172.18.0.2:9042, hostId=d5adf778-4e79-4aec-aaea-dc8e8b1ecf98, hashCode=13662114), trying next node (ConnectionInitException: [s0|control|connecting...] Protocol initialization request, step 1 (STARTUP {CQL_VERSION=3.0.0, DRIVER_NAME=DataStax Java driver for Apache Cassandra(R), DRIVER_VERSION=4.13.0, CLIENT_ID=fb4089bb-958e-4221-9c31-3c9f50d3d83f, APPLICATION_NAME=Spark-Cassandra-Connector-local-1737240500963}): failed to send request (com.datastax.oss.driver.shaded.netty.channel.StacklessClosedChannelException))\n",
      "25/01/18 23:42:11 WARN ControlConnection: [s0] Error connecting to Node(endPoint=/172.18.0.2:9042, hostId=d5adf778-4e79-4aec-aaea-dc8e8b1ecf98, hashCode=13662114), trying next node (ConnectionInitException: [s0|control|connecting...] Protocol initialization request, step 1 (STARTUP {CQL_VERSION=3.0.0, DRIVER_NAME=DataStax Java driver for Apache Cassandra(R), DRIVER_VERSION=4.13.0, CLIENT_ID=fb4089bb-958e-4221-9c31-3c9f50d3d83f, APPLICATION_NAME=Spark-Cassandra-Connector-local-1737240500963}): failed to send request (com.datastax.oss.driver.shaded.netty.channel.StacklessClosedChannelException))\n",
      "25/01/18 23:42:22 WARN ChannelPool: [s0|/172.18.0.2:9042]  Error while opening new channel (ConnectionInitException: [s0|connecting...] Protocol initialization request, step 1 (STARTUP {CQL_VERSION=3.0.0, DRIVER_NAME=DataStax Java driver for Apache Cassandra(R), DRIVER_VERSION=4.13.0, CLIENT_ID=fb4089bb-958e-4221-9c31-3c9f50d3d83f, APPLICATION_NAME=Spark-Cassandra-Connector-local-1737240500963}): failed to send request (com.datastax.oss.driver.shaded.netty.channel.StacklessClosedChannelException))\n",
      "25/01/18 23:43:13 WARN ControlConnection: [s0] Error connecting to Node(endPoint=/172.18.0.2:9042, hostId=d5adf778-4e79-4aec-aaea-dc8e8b1ecf98, hashCode=13662114), trying next node (ConnectionInitException: [s0|control|connecting...] Protocol initialization request, step 1 (STARTUP {CQL_VERSION=3.0.0, DRIVER_NAME=DataStax Java driver for Apache Cassandra(R), DRIVER_VERSION=4.13.0, CLIENT_ID=fb4089bb-958e-4221-9c31-3c9f50d3d83f, APPLICATION_NAME=Spark-Cassandra-Connector-local-1737240500963}): failed to send request (com.datastax.oss.driver.shaded.netty.channel.StacklessClosedChannelException))\n",
      "25/01/18 23:43:24 WARN ChannelPool: [s0|/172.18.0.2:9042]  Error while opening new channel (ConnectionInitException: [s0|connecting...] Protocol initialization request, step 1 (STARTUP {CQL_VERSION=3.0.0, DRIVER_NAME=DataStax Java driver for Apache Cassandra(R), DRIVER_VERSION=4.13.0, CLIENT_ID=fb4089bb-958e-4221-9c31-3c9f50d3d83f, APPLICATION_NAME=Spark-Cassandra-Connector-local-1737240500963}): failed to send request (com.datastax.oss.driver.shaded.netty.channel.StacklessClosedChannelException))\n",
      "25/01/18 23:44:16 WARN ControlConnection: [s0] Error connecting to Node(endPoint=/172.18.0.2:9042, hostId=d5adf778-4e79-4aec-aaea-dc8e8b1ecf98, hashCode=13662114), trying next node (ConnectionInitException: [s0|control|connecting...] Protocol initialization request, step 1 (STARTUP {CQL_VERSION=3.0.0, DRIVER_NAME=DataStax Java driver for Apache Cassandra(R), DRIVER_VERSION=4.13.0, CLIENT_ID=fb4089bb-958e-4221-9c31-3c9f50d3d83f, APPLICATION_NAME=Spark-Cassandra-Connector-local-1737240500963}): failed to send request (com.datastax.oss.driver.shaded.netty.channel.StacklessClosedChannelException))\n",
      "25/01/18 23:44:24 WARN ChannelPool: [s0|/172.18.0.2:9042]  Error while opening new channel (ConnectionInitException: [s0|connecting...] Protocol initialization request, step 1 (STARTUP {CQL_VERSION=3.0.0, DRIVER_NAME=DataStax Java driver for Apache Cassandra(R), DRIVER_VERSION=4.13.0, CLIENT_ID=fb4089bb-958e-4221-9c31-3c9f50d3d83f, APPLICATION_NAME=Spark-Cassandra-Connector-local-1737240500963}): failed to send request (com.datastax.oss.driver.shaded.netty.channel.StacklessClosedChannelException))\n",
      "25/01/18 23:45:09 WARN PlainTextAuthProviderBase: [] /172.18.0.2:9042 did not send an authentication challenge; This is suspicious because the driver expects authentication\n",
      "25/01/18 23:45:23 WARN PlainTextAuthProviderBase: [] /172.18.0.2:9042 did not send an authentication challenge; This is suspicious because the driver expects authentication\n",
      "25/01/18 23:46:38 WARN ControlConnection: [s0] Error connecting to Node(endPoint=/172.18.0.2:9042, hostId=d5adf778-4e79-4aec-aaea-dc8e8b1ecf98, hashCode=13662114), trying next node (ConnectionInitException: [s0|control|connecting...] Protocol initialization request, step 1 (STARTUP {CQL_VERSION=3.0.0, DRIVER_NAME=DataStax Java driver for Apache Cassandra(R), DRIVER_VERSION=4.13.0, CLIENT_ID=fb4089bb-958e-4221-9c31-3c9f50d3d83f, APPLICATION_NAME=Spark-Cassandra-Connector-local-1737240500963}): failed to send request (java.nio.channels.NotYetConnectedException))\n",
      "25/01/18 23:46:38 WARN ChannelPool: [s0|/172.18.0.2:9042]  Error while opening new channel (ConnectionInitException: [s0|connecting...] Protocol initialization request, step 1 (STARTUP {CQL_VERSION=3.0.0, DRIVER_NAME=DataStax Java driver for Apache Cassandra(R), DRIVER_VERSION=4.13.0, CLIENT_ID=fb4089bb-958e-4221-9c31-3c9f50d3d83f, APPLICATION_NAME=Spark-Cassandra-Connector-local-1737240500963}): failed to send request (java.nio.channels.NotYetConnectedException))\n",
      "25/01/18 23:46:45 WARN ControlConnection: [s0] Error connecting to Node(endPoint=/172.18.0.2:9042, hostId=d5adf778-4e79-4aec-aaea-dc8e8b1ecf98, hashCode=13662114), trying next node (ConnectionInitException: [s0|control|connecting...] Protocol initialization request, step 1 (STARTUP {CQL_VERSION=3.0.0, DRIVER_NAME=DataStax Java driver for Apache Cassandra(R), DRIVER_VERSION=4.13.0, CLIENT_ID=fb4089bb-958e-4221-9c31-3c9f50d3d83f, APPLICATION_NAME=Spark-Cassandra-Connector-local-1737240500963}): failed to send request (java.nio.channels.NotYetConnectedException))\n",
      "25/01/18 23:46:45 WARN ChannelPool: [s0|/172.18.0.2:9042]  Error while opening new channel (ConnectionInitException: [s0|connecting...] Protocol initialization request, step 1 (STARTUP {CQL_VERSION=3.0.0, DRIVER_NAME=DataStax Java driver for Apache Cassandra(R), DRIVER_VERSION=4.13.0, CLIENT_ID=fb4089bb-958e-4221-9c31-3c9f50d3d83f, APPLICATION_NAME=Spark-Cassandra-Connector-local-1737240500963}): failed to send request (java.nio.channels.NotYetConnectedException))\n",
      "25/01/18 23:46:55 WARN ControlConnection: [s0] Error connecting to Node(endPoint=/172.18.0.2:9042, hostId=d5adf778-4e79-4aec-aaea-dc8e8b1ecf98, hashCode=13662114), trying next node (ConnectionInitException: [s0|control|connecting...] Protocol initialization request, step 1 (STARTUP {CQL_VERSION=3.0.0, DRIVER_NAME=DataStax Java driver for Apache Cassandra(R), DRIVER_VERSION=4.13.0, CLIENT_ID=fb4089bb-958e-4221-9c31-3c9f50d3d83f, APPLICATION_NAME=Spark-Cassandra-Connector-local-1737240500963}): failed to send request (java.nio.channels.NotYetConnectedException))\n",
      "25/01/18 23:46:55 WARN ChannelPool: [s0|/172.18.0.2:9042]  Error while opening new channel (ConnectionInitException: [s0|connecting...] Protocol initialization request, step 1 (STARTUP {CQL_VERSION=3.0.0, DRIVER_NAME=DataStax Java driver for Apache Cassandra(R), DRIVER_VERSION=4.13.0, CLIENT_ID=fb4089bb-958e-4221-9c31-3c9f50d3d83f, APPLICATION_NAME=Spark-Cassandra-Connector-local-1737240500963}): failed to send request (java.nio.channels.NotYetConnectedException))\n",
      "25/01/18 23:47:07 WARN ChannelPool: [s0|/172.18.0.2:9042]  Error while opening new channel (ConnectionInitException: [s0|connecting...] Protocol initialization request, step 1 (STARTUP {CQL_VERSION=3.0.0, DRIVER_NAME=DataStax Java driver for Apache Cassandra(R), DRIVER_VERSION=4.13.0, CLIENT_ID=fb4089bb-958e-4221-9c31-3c9f50d3d83f, APPLICATION_NAME=Spark-Cassandra-Connector-local-1737240500963}): failed to send request (java.nio.channels.NotYetConnectedException))\n",
      "25/01/18 23:47:08 WARN ControlConnection: [s0] Error connecting to Node(endPoint=/172.18.0.2:9042, hostId=d5adf778-4e79-4aec-aaea-dc8e8b1ecf98, hashCode=13662114), trying next node (ConnectionInitException: [s0|control|connecting...] Protocol initialization request, step 1 (STARTUP {CQL_VERSION=3.0.0, DRIVER_NAME=DataStax Java driver for Apache Cassandra(R), DRIVER_VERSION=4.13.0, CLIENT_ID=fb4089bb-958e-4221-9c31-3c9f50d3d83f, APPLICATION_NAME=Spark-Cassandra-Connector-local-1737240500963}): failed to send request (java.nio.channels.NotYetConnectedException))\n",
      "25/01/18 23:47:25 WARN ChannelPool: [s0|/172.18.0.2:9042]  Error while opening new channel (ConnectionInitException: [s0|connecting...] Protocol initialization request, step 1 (STARTUP {CQL_VERSION=3.0.0, DRIVER_NAME=DataStax Java driver for Apache Cassandra(R), DRIVER_VERSION=4.13.0, CLIENT_ID=fb4089bb-958e-4221-9c31-3c9f50d3d83f, APPLICATION_NAME=Spark-Cassandra-Connector-local-1737240500963}): failed to send request (com.datastax.oss.driver.shaded.netty.channel.StacklessClosedChannelException))\n",
      "25/01/18 23:47:25 WARN ControlConnection: [s0] Error connecting to Node(endPoint=/172.18.0.2:9042, hostId=d5adf778-4e79-4aec-aaea-dc8e8b1ecf98, hashCode=13662114), trying next node (ConnectionInitException: [s0|control|connecting...] Protocol initialization request, step 1 (STARTUP {CQL_VERSION=3.0.0, DRIVER_NAME=DataStax Java driver for Apache Cassandra(R), DRIVER_VERSION=4.13.0, CLIENT_ID=fb4089bb-958e-4221-9c31-3c9f50d3d83f, APPLICATION_NAME=Spark-Cassandra-Connector-local-1737240500963}): failed to send request (com.datastax.oss.driver.shaded.netty.channel.StacklessClosedChannelException))\n",
      "25/01/18 23:47:58 WARN ChannelPool: [s0|/172.18.0.2:9042]  Error while opening new channel (ConnectionInitException: [s0|connecting...] Protocol initialization request, step 1 (STARTUP {CQL_VERSION=3.0.0, DRIVER_NAME=DataStax Java driver for Apache Cassandra(R), DRIVER_VERSION=4.13.0, CLIENT_ID=fb4089bb-958e-4221-9c31-3c9f50d3d83f, APPLICATION_NAME=Spark-Cassandra-Connector-local-1737240500963}): failed to send request (java.nio.channels.NotYetConnectedException))\n",
      "25/01/18 23:47:59 WARN ControlConnection: [s0] Error connecting to Node(endPoint=/172.18.0.2:9042, hostId=d5adf778-4e79-4aec-aaea-dc8e8b1ecf98, hashCode=13662114), trying next node (ConnectionInitException: [s0|control|connecting...] Protocol initialization request, step 1 (STARTUP {CQL_VERSION=3.0.0, DRIVER_NAME=DataStax Java driver for Apache Cassandra(R), DRIVER_VERSION=4.13.0, CLIENT_ID=fb4089bb-958e-4221-9c31-3c9f50d3d83f, APPLICATION_NAME=Spark-Cassandra-Connector-local-1737240500963}): failed to send request (java.nio.channels.NotYetConnectedException))\n",
      "25/01/18 23:48:48 WARN JavaUtils: Attempt to delete using native Unix OS command failed for path = /tmp/spark-81e9051c-befb-4964-a0b7-1edb0e5eb9fd. Falling back to Java IO way\n",
      "java.io.IOException: Failed to delete: /tmp/spark-81e9051c-befb-4964-a0b7-1edb0e5eb9fd\n",
      "\tat org.apache.spark.network.util.JavaUtils.deleteRecursivelyUsingUnixNative(JavaUtils.java:174)\n",
      "\tat org.apache.spark.network.util.JavaUtils.deleteRecursively(JavaUtils.java:109)\n",
      "\tat org.apache.spark.network.util.JavaUtils.deleteRecursively(JavaUtils.java:90)\n",
      "\tat org.apache.spark.util.SparkFileUtils.deleteRecursively(SparkFileUtils.scala:121)\n",
      "\tat org.apache.spark.util.SparkFileUtils.deleteRecursively$(SparkFileUtils.scala:120)\n",
      "\tat org.apache.spark.util.Utils$.deleteRecursively(Utils.scala:1126)\n",
      "\tat org.apache.spark.util.ShutdownHookManager$.$anonfun$new$4(ShutdownHookManager.scala:65)\n",
      "\tat org.apache.spark.util.ShutdownHookManager$.$anonfun$new$4$adapted(ShutdownHookManager.scala:62)\n",
      "\tat scala.collection.IndexedSeqOptimized.foreach(IndexedSeqOptimized.scala:36)\n",
      "\tat scala.collection.IndexedSeqOptimized.foreach$(IndexedSeqOptimized.scala:33)\n",
      "\tat scala.collection.mutable.ArrayOps$ofRef.foreach(ArrayOps.scala:198)\n",
      "\tat org.apache.spark.util.ShutdownHookManager$.$anonfun$new$2(ShutdownHookManager.scala:62)\n",
      "\tat org.apache.spark.util.SparkShutdownHook.run(ShutdownHookManager.scala:214)\n",
      "\tat org.apache.spark.util.SparkShutdownHookManager.$anonfun$runAll$2(ShutdownHookManager.scala:188)\n",
      "\tat scala.runtime.java8.JFunction0$mcV$sp.apply(JFunction0$mcV$sp.java:23)\n",
      "\tat org.apache.spark.util.Utils$.logUncaughtExceptions(Utils.scala:1928)\n",
      "\tat org.apache.spark.util.SparkShutdownHookManager.$anonfun$runAll$1(ShutdownHookManager.scala:188)\n",
      "\tat scala.runtime.java8.JFunction0$mcV$sp.apply(JFunction0$mcV$sp.java:23)\n",
      "\tat scala.util.Try$.apply(Try.scala:213)\n",
      "\tat org.apache.spark.util.SparkShutdownHookManager.runAll(ShutdownHookManager.scala:188)\n",
      "\tat org.apache.spark.util.SparkShutdownHookManager$$anon$2.run(ShutdownHookManager.scala:178)\n",
      "\tat java.base/java.util.concurrent.Executors$RunnableAdapter.call(Unknown Source)\n",
      "\tat java.base/java.util.concurrent.FutureTask.run(Unknown Source)\n",
      "\tat java.base/java.util.concurrent.ThreadPoolExecutor.runWorker(Unknown Source)\n",
      "\tat java.base/java.util.concurrent.ThreadPoolExecutor$Worker.run(Unknown Source)\n",
      "\tat java.base/java.lang.Thread.run(Unknown Source)\n"
     ]
    }
   ],
   "source": [
    "\n",
    "# Stop Spark session\n",
    "spark.stop()\n"
   ]
  },
  {
   "cell_type": "code",
   "execution_count": null,
   "metadata": {},
   "outputs": [],
   "source": []
  }
 ],
 "metadata": {
  "kernelspec": {
   "display_name": "Python 3 (ipykernel)",
   "language": "python",
   "name": "python3"
  },
  "language_info": {
   "codemirror_mode": {
    "name": "ipython",
    "version": 3
   },
   "file_extension": ".py",
   "mimetype": "text/x-python",
   "name": "python",
   "nbconvert_exporter": "python",
   "pygments_lexer": "ipython3",
   "version": "3.8.10"
  }
 },
 "nbformat": 4,
 "nbformat_minor": 2
}
