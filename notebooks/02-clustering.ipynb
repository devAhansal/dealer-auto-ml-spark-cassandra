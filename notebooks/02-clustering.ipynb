{
 "cells": [
  {
   "cell_type": "code",
   "execution_count": 1,
   "metadata": {},
   "outputs": [
    {
     "name": "stdout",
     "output_type": "stream",
     "text": [
      "/usr/bin/python3\n"
     ]
    }
   ],
   "source": [
    "import sys\n",
    "print(sys.executable)"
   ]
  },
  {
   "cell_type": "code",
   "execution_count": 3,
   "metadata": {},
   "outputs": [
    {
     "name": "stderr",
     "output_type": "stream",
     "text": [
      "Setting default log level to \"WARN\".\n",
      "To adjust logging level use sc.setLogLevel(newLevel). For SparkR, use setLogLevel(newLevel).\n",
      "25/01/18 20:55:19 WARN NativeCodeLoader: Unable to load native-hadoop library for your platform... using builtin-java classes where applicable\n",
      "25/01/18 20:55:21 WARN Utils: Service 'SparkUI' could not bind on port 4040. Attempting port 4041.\n",
      "25/01/18 20:55:21 WARN Utils: Service 'SparkUI' could not bind on port 4041. Attempting port 4042.\n"
     ]
    }
   ],
   "source": [
    "# Initialiser Spark\n",
    "spark = SparkSession.builder \\\n",
    "    .appName(\"Clustering with PySpark\") \\\n",
    "    .getOrCreate()"
   ]
  },
  {
   "cell_type": "markdown",
   "metadata": {},
   "source": [
    "### Import des bibliothèques"
   ]
  },
  {
   "cell_type": "code",
   "execution_count": 2,
   "metadata": {},
   "outputs": [],
   "source": [
    "from pyspark.sql import SparkSession\n",
    "from pyspark.ml.feature import VectorAssembler, StandardScaler\n",
    "from pyspark.ml.clustering import KMeans\n",
    "from pyspark.sql.functions import col\n",
    "import matplotlib.pyplot as plt\n",
    "import seaborn as sns"
   ]
  },
  {
   "cell_type": "markdown",
   "metadata": {},
   "source": [
    "### Chargement des données "
   ]
  },
  {
   "cell_type": "code",
   "execution_count": 4,
   "metadata": {},
   "outputs": [],
   "source": [
    "# Charger les données nettoyées\n",
    "catalogue = spark.read.csv(\"data/processed/catalogue_processed.csv\", header=True, inferSchema=True)"
   ]
  },
  {
   "cell_type": "markdown",
   "metadata": {},
   "source": [
    "### Prétraitement des données"
   ]
  },
  {
   "cell_type": "code",
   "execution_count": 5,
   "metadata": {},
   "outputs": [
    {
     "name": "stdout",
     "output_type": "stream",
     "text": [
      "Aperçu des données du catalogue :\n",
      "+--------+----------------+---------+-----------+--------+--------+-------+--------+-----+--------------+\n",
      "|  marque|             nom|puissance|   longueur|nbPlaces|nbPortes|couleur|occasion| prix|longueur_index|\n",
      "+--------+----------------+---------+-----------+--------+--------+-------+--------+-----+--------------+\n",
      "| Renault|     Espace 2.0T|      165|     longue|       7|       5|   bleu|    true|21245|           1.0|\n",
      "|   Honda|        FR-V 1.7|      125|     longue|       7|       5|   bleu|   false|19550|           1.0|\n",
      "| Renault|Vel Satis 3.5 V6|      245|très longue|       5|       5|   bleu|    true|34440|           3.0|\n",
      "|Mercedes|            A200|      136|    moyenne|       5|       5|   noir|    true|18130|           2.0|\n",
      "|  Lancia| Ypsilon 1.4 16V|       90|     courte|       5|       3|   gris|   false|13500|           0.0|\n",
      "+--------+----------------+---------+-----------+--------+--------+-------+--------+-----+--------------+\n",
      "only showing top 5 rows\n",
      "\n"
     ]
    }
   ],
   "source": [
    "# Afficher les premières lignes\n",
    "print(\"Aperçu des données du catalogue :\")\n",
    "catalogue.show(5)"
   ]
  },
  {
   "cell_type": "code",
   "execution_count": 6,
   "metadata": {},
   "outputs": [],
   "source": [
    "# Séparer les voitures neuves et d'occasion\n",
    "catalogue_new = catalogue.filter(col(\"occasion\") == False)"
   ]
  },
  {
   "cell_type": "code",
   "execution_count": 7,
   "metadata": {},
   "outputs": [],
   "source": [
    "# Supprimer les doublons des voitures neuves en fonction du nom\n",
    "catalogue_new = catalogue_new.dropDuplicates([\"nom\"])"
   ]
  },
  {
   "cell_type": "code",
   "execution_count": 9,
   "metadata": {},
   "outputs": [],
   "source": [
    "# Sélectionner uniquement les colonnes numériques\n",
    "numeric_cols = [\"puissance\", \"longueur_index\", \"nbPlaces\", \"nbPortes\", \"prix\"]\n",
    "assembler = VectorAssembler(inputCols=numeric_cols, outputCol=\"features\")\n",
    "catalogue_new = assembler.transform(catalogue_new)"
   ]
  },
  {
   "cell_type": "code",
   "execution_count": 10,
   "metadata": {},
   "outputs": [],
   "source": [
    "# Normalisation des données\n",
    "scaler = StandardScaler(inputCol=\"features\", outputCol=\"scaled_features\", withStd=True, withMean=True)\n",
    "scaler_model = scaler.fit(catalogue_new)\n",
    "catalogue_new = scaler_model.transform(catalogue_new)"
   ]
  },
  {
   "cell_type": "markdown",
   "metadata": {},
   "source": [
    "### Clustering"
   ]
  },
  {
   "cell_type": "code",
   "execution_count": 11,
   "metadata": {},
   "outputs": [
    {
     "name": "stderr",
     "output_type": "stream",
     "text": [
      "25/01/18 20:57:25 WARN InstanceBuilder: Failed to load implementation from:dev.ludovic.netlib.blas.JNIBLAS\n"
     ]
    }
   ],
   "source": [
    "# Clustering avec KMeans\n",
    "kmeans = KMeans(featuresCol=\"scaled_features\", k=4, seed=123)\n",
    "model = kmeans.fit(catalogue_new)\n",
    "catalogue_new = model.transform(catalogue_new)"
   ]
  },
  {
   "cell_type": "code",
   "execution_count": 12,
   "metadata": {},
   "outputs": [
    {
     "name": "stdout",
     "output_type": "stream",
     "text": [
      "Résultats du clustering :\n",
      "+----------+--------------+---------+-----+----------+\n",
      "|    marque|           nom|puissance| prix|prediction|\n",
      "+----------+--------------+---------+-----+----------+\n",
      "|   Peugeot|      1007 1.4|       75|13750|         3|\n",
      "|       BMW|          120i|      150|35800|         0|\n",
      "|      Saab|      9.3 1.8T|      150|38600|         0|\n",
      "|      Audi|        A2 1.4|       75|18310|         3|\n",
      "|  Mercedes|          A200|      136|25900|         0|\n",
      "|      Audi|    A3 2.0 FSI|      150|28500|         0|\n",
      "|    Nissan|    Almera 1.8|      115|16450|         0|\n",
      "|      Mini|Copper 1.6 16V|      115|18200|         3|\n",
      "|      Fiat|     Croma 2.2|      147|24780|         0|\n",
      "|  Daihatsu|     Cuore 1.0|       58| 8850|         1|\n",
      "|   Renault|   Espace 2.0T|      165|30350|         0|\n",
      "|     Honda|      FR-V 1.7|      125|19550|         0|\n",
      "|Volkswagen|  Golf 2.0 FSI|      150|22900|         0|\n",
      "|   Renault|   Laguna 2.0T|      170|27300|         0|\n",
      "|     Dacia| Logan 1.6 MPI|       90| 7500|         0|\n",
      "|       BMW|            M5|      507|94800|         2|\n",
      "|   Hyundaï|    Matrix 1.6|      103|15960|         0|\n",
      "|    Nissan| Maxima 3.0 V6|      200|30000|         2|\n",
      "|   Renault|Megane 2.0 16V|      135|22350|         0|\n",
      "|      Ford|    Mondeo 1.8|      125|23900|         0|\n",
      "+----------+--------------+---------+-----+----------+\n",
      "only showing top 20 rows\n",
      "\n"
     ]
    }
   ],
   "source": [
    "# Afficher les clusters\n",
    "print(\"Résultats du clustering :\")\n",
    "catalogue_new.select(\"marque\", \"nom\", \"puissance\", \"prix\", \"prediction\").show()"
   ]
  },
  {
   "cell_type": "code",
   "execution_count": 13,
   "metadata": {},
   "outputs": [
    {
     "data": {
      "image/png": "[encoded data removed]",
      "text/plain": [
       "<Figure size 1000x800 with 1 Axes>"
      ]
     },
     "metadata": {},
     "output_type": "display_data"
    }
   ],
   "source": [
    "# Visualisation des clusters (nécessite la conversion en Pandas)\n",
    "catalogue_new_pd = catalogue_new.select(\"puissance\", \"prix\", \"prediction\").toPandas()\n",
    "\n",
    "plt.figure(figsize=(10, 8))\n",
    "sns.scatterplot(x=\"puissance\", y=\"prix\", hue=\"prediction\", data=catalogue_new_pd, palette=\"viridis\", s=100)\n",
    "plt.title(\"Clustering des véhicules (K=4)\")\n",
    "plt.xlabel(\"Puissance\")\n",
    "plt.ylabel(\"Prix\")\n",
    "plt.legend(title=\"Cluster\")\n",
    "plt.show()"
   ]
  },
  {
   "cell_type": "code",
   "execution_count": 23,
   "metadata": {},
   "outputs": [],
   "source": [
    "# Sélectionner uniquement les colonnes nécessaires pour la sauvegarde\n",
    "columns_to_save = [\"marque\", \"nom\", \"puissance\", \"longueur\", \"nbPlaces\", \"nbPortes\", \"prix\", \"prediction\"]\n",
    "catalogue_new_selected = catalogue_new.select(columns_to_save)\n",
    "\n",
    "# Sauvegarder les données avec les clusters\n",
    "catalogue_new_selected.write.csv(\"data/clustered/catalogue_clusters.csv\", header=True, mode=\"overwrite\")"
   ]
  },
  {
   "cell_type": "markdown",
   "metadata": {},
   "source": [
    "#### Ajouter les clusters à immatriculations"
   ]
  },
  {
   "cell_type": "code",
   "execution_count": 15,
   "metadata": {},
   "outputs": [],
   "source": [
    "# Charger les immatriculations nettoyées\n",
    "immatriculations = spark.read.csv(\"data/processed/immatriculations_processed.csv\", header=True, inferSchema=True)\n"
   ]
  },
  {
   "cell_type": "code",
   "execution_count": 16,
   "metadata": {},
   "outputs": [],
   "source": [
    "# Fusionner les clusters du catalogue avec les immatriculations\n",
    "catalogue_clusters = catalogue_new.select(\"marque\", \"nom\", \"prediction\")\n",
    "immatriculations_with_clusters = immatriculations.join(catalogue_clusters, on=[\"marque\", \"nom\"], how=\"left\")"
   ]
  },
  {
   "cell_type": "code",
   "execution_count": 17,
   "metadata": {},
   "outputs": [],
   "source": [
    "# Filtrer les immatriculations pour ne garder que les voitures neuves\n",
    "immatriculations_with_clusters = immatriculations_with_clusters.filter(col(\"occasion\") == False)"
   ]
  },
  {
   "cell_type": "code",
   "execution_count": 19,
   "metadata": {},
   "outputs": [
    {
     "name": "stderr",
     "output_type": "stream",
     "text": [
      "                                                                                \r"
     ]
    }
   ],
   "source": [
    "# Sauvegarder les immatriculations avec les clusters\n",
    "immatriculations_with_clusters.write.csv(\"data/clustered/immatriculations_clusters.csv\", header=True, mode=\"overwrite\")"
   ]
  },
  {
   "cell_type": "code",
   "execution_count": 21,
   "metadata": {},
   "outputs": [
    {
     "name": "stdout",
     "output_type": "stream",
     "text": [
      "Aperçu des immatriculations avec les clusters :\n",
      "+--------+--------------+---------------+---------+-----------+--------+--------+-------+--------+------+----------+\n",
      "|  marque|           nom|immatriculation|puissance|   longueur|nbPlaces|nbPortes|couleur|occasion|  prix|prediction|\n",
      "+--------+--------------+---------------+---------+-----------+--------+--------+-------+--------+------+----------+\n",
      "|  Nissan| Maxima 3.0 V6|     8955 RA 70|      200|très longue|       5|       5|  rouge|   false| 30000|         2|\n",
      "|   Dacia| Logan 1.6 MPI|     2095 ZI 23|       90|    moyenne|       5|       5|   gris|   false|  7500|         0|\n",
      "| Renault|Megane 2.0 16V|     3916 OI 98|      135|    moyenne|       5|       5|   noir|   false| 22350|         0|\n",
      "|Mercedes|          S500|     3454 UH 18|      306|très longue|       5|       5|   bleu|   false|101300|         2|\n",
      "|  Jaguar| X-Type 2.5 V6|      504 CE 26|      197|     longue|       5|       5|   bleu|   false| 37100|         0|\n",
      "+--------+--------------+---------------+---------+-----------+--------+--------+-------+--------+------+----------+\n",
      "only showing top 5 rows\n",
      "\n"
     ]
    }
   ],
   "source": [
    "\n",
    "# Afficher les premières lignes des immatriculations avec les clusters\n",
    "print(\"Aperçu des immatriculations avec les clusters :\")\n",
    "immatriculations_with_clusters.show(5)"
   ]
  }
 ],
 "metadata": {
  "kernelspec": {
   "display_name": "Python 3 (ipykernel)",
   "language": "python",
   "name": "python3"
  },
  "language_info": {
   "codemirror_mode": {
    "name": "ipython",
    "version": 3
   },
   "file_extension": ".py",
   "mimetype": "text/x-python",
   "name": "python",
   "nbconvert_exporter": "python",
   "pygments_lexer": "ipython3",
   "version": "3.8.10"
  }
 },
 "nbformat": 4,
 "nbformat_minor": 2
}
